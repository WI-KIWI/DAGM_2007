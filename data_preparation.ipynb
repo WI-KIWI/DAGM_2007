{
 "cells": [
  {
   "cell_type": "markdown",
   "metadata": {},
   "source": [
    "# Data Preprocessing\n",
    "# *Weakly Supervised Learning for Industrial Optical Inspection*\n",
    "\n",
    "Data could be found at http://resources.mpi-inf.mpg.de/conferences/dagm/2007/prizes.html, to download the 12 zip-files we type\n",
    "```\n",
    "wget http://resources.mpi-inf.mpg.de/conferences/dagm/2007/Class{1..6}.zip\n",
    "wget http://resources.mpi-inf.mpg.de/conferences/dagm/2007/Class{1..6}_def.zip\n",
    "```"
   ]
  },
  {
   "cell_type": "code",
   "execution_count": 19,
   "metadata": {},
   "outputs": [],
   "source": [
    "# author: Zilong Zhao"
   ]
  },
  {
   "cell_type": "code",
   "execution_count": 3,
   "metadata": {},
   "outputs": [],
   "source": [
    "import os\n",
    "import glob\n",
    "import seaborn as sns\n",
    "import matplotlib\n",
    "import matplotlib.pyplot as plt\n",
    "from keras.preprocessing.image import ImageDataGenerator,array_to_img, img_to_array, load_img\n",
    "import math\n",
    "from tqdm import tqdm\n",
    "import random\n",
    "import shutil"
   ]
  },
  {
   "cell_type": "code",
   "execution_count": 4,
   "metadata": {},
   "outputs": [],
   "source": [
    "raw_data_dir = '/opt/Daten/DAGM/Raw_data/'"
   ]
  },
  {
   "cell_type": "code",
   "execution_count": 15,
   "metadata": {},
   "outputs": [],
   "source": [
    "def check_barplot(data_dir):\n",
    "    class1=[]\n",
    "    class2=[]\n",
    "    class3=[]\n",
    "    class4=[]\n",
    "    class5=[]\n",
    "    class6=[]\n",
    "    class1_def=[]\n",
    "    class2_def=[]\n",
    "    class3_def=[]\n",
    "    class4_def=[]\n",
    "    class5_def=[]\n",
    "    class6_def=[]\n",
    "\n",
    "    for filename in glob.iglob(data_dir + '**/*.*', recursive=True):\n",
    "        if 'Class1/' in filename:\n",
    "            class1.append(filename)\n",
    "        elif 'Class2/' in filename:\n",
    "            class2.append(filename)\n",
    "        elif 'Class3/' in filename:\n",
    "            class3.append(filename)\n",
    "        elif 'Class4/' in filename:\n",
    "            class4.append(filename)\n",
    "        elif 'Class5/' in filename:\n",
    "            class5.append(filename)\n",
    "        elif 'Class6/' in filename:\n",
    "            class6.append(filename)\n",
    "        elif 'Class1_def/' in filename:\n",
    "            class1_def.append(filename)\n",
    "        elif 'Class2_def/' in filename:\n",
    "            class2_def.append(filename)\n",
    "        elif 'Class3_def/' in filename:\n",
    "            class3_def.append(filename)\n",
    "        elif 'Class4_def/' in filename:\n",
    "            class4_def.append(filename)\n",
    "        elif 'Class5_def/' in filename:\n",
    "            class5_def.append(filename)\n",
    "        else:\n",
    "            class6_def.append(filename)\n",
    "    class_name=sorted(['Class' + str(n) for n in range(1, 7)] + ['Class' + str(n) + '_def' for n in range(1,7)])\n",
    "    class_count=[len(class1), len(class1_def), \n",
    "                 len(class2), len(class2_def),\n",
    "                 len(class3), len(class3_def),\n",
    "                 len(class4), len(class4_def),\n",
    "                 len(class5), len(class5_def),\n",
    "                 len(class6), len(class6_def)]\n",
    "    plt.figure(figsize = (12,6))\n",
    "    sns.barplot(class_name, class_count, alpha = 0.9)\n",
    "    plt.xticks(rotation = 'vertical')\n",
    "    plt.xlabel('Class name', fontsize =12)\n",
    "    plt.ylabel('Counts', fontsize = 12)\n",
    "    plt.show()"
   ]
  },
  {
   "cell_type": "markdown",
   "metadata": {},
   "source": [
    "# Let's check how many pics we have for each class"
   ]
  },
  {
   "cell_type": "code",
   "execution_count": 16,
   "metadata": {},
   "outputs": [
    {
     "data": {
      "image/png": "[encoded data removed]",
      "text/plain": [
       "<Figure size 864x432 with 1 Axes>"
      ]
     },
     "metadata": {},
     "output_type": "display_data"
    }
   ],
   "source": [
    "check_barplot(data_dir=raw_data_dir)"
   ]
  },
  {
   "cell_type": "markdown",
   "metadata": {},
   "source": [
    "The barplot shows an extream unbalance in the classes with defectness. To prevent overfitting, we need to do some data augmentation job."
   ]
  },
  {
   "cell_type": "markdown",
   "metadata": {},
   "source": [
    "# Data augmentation\n",
    "Using Keras, we can easily rotate, flip, shift the image with\n",
    "```\n",
    "keras.preprocessing.image.ImageDataGenerator()\n",
    "```"
   ]
  },
  {
   "cell_type": "code",
   "execution_count": 118,
   "metadata": {
    "scrolled": false
   },
   "outputs": [
    {
     "name": "stderr",
     "output_type": "stream",
     "text": [
      "\n",
      "\n",
      "\n",
      "\n",
      "\n",
      "\n",
      "\n",
      "\n",
      "\n",
      "\n",
      "\n",
      "  0%|          | 0/12 [00:00<?, ?it/s]\u001b[A\u001b[A\u001b[A\u001b[A\u001b[A\u001b[A\u001b[A\u001b[A\u001b[A\u001b[A\u001b[A\n",
      "\n",
      "\n",
      "\n",
      "\n",
      "\n",
      "\n",
      "\n",
      "\n",
      "\n",
      "\n",
      "  8%|▊         | 1/12 [00:08<01:32,  8.45s/it]\u001b[A\u001b[A\u001b[A\u001b[A\u001b[A\u001b[A\u001b[A\u001b[A\u001b[A\u001b[A\u001b[A\n",
      "\n",
      "\n",
      "\n",
      "\n",
      "\n",
      "\n",
      "\n",
      "\n",
      "\n",
      "\n",
      " 17%|█▋        | 2/12 [00:53<03:14, 19.42s/it]\u001b[A\u001b[A\u001b[A\u001b[A\u001b[A\u001b[A\u001b[A\u001b[A\u001b[A\u001b[A\u001b[A\n",
      "\n",
      "\n",
      "\n",
      "\n",
      "\n",
      "\n",
      "\n",
      "\n",
      "\n",
      "\n",
      " 25%|██▌       | 3/12 [01:01<02:24, 16.07s/it]\u001b[A\u001b[A\u001b[A\u001b[A\u001b[A\u001b[A\u001b[A\u001b[A\u001b[A\u001b[A\u001b[A\n",
      "\n",
      "\n",
      "\n",
      "\n",
      "\n",
      "\n",
      "\n",
      "\n",
      "\n",
      "\n",
      " 33%|███▎      | 4/12 [01:45<03:16, 24.52s/it]\u001b[A\u001b[A\u001b[A\u001b[A\u001b[A\u001b[A\u001b[A\u001b[A\u001b[A\u001b[A\u001b[A\n",
      "\n",
      "\n",
      "\n",
      "\n",
      "\n",
      "\n",
      "\n",
      "\n",
      "\n",
      "\n",
      " 42%|████▏     | 5/12 [01:54<02:17, 19.60s/it]\u001b[A\u001b[A\u001b[A\u001b[A\u001b[A\u001b[A\u001b[A\u001b[A\u001b[A\u001b[A\u001b[A\n",
      "\n",
      "\n",
      "\n",
      "\n",
      "\n",
      "\n",
      "\n",
      "\n",
      "\n",
      "\n",
      " 50%|█████     | 6/12 [02:37<02:39, 26.61s/it]\u001b[A\u001b[A\u001b[A\u001b[A\u001b[A\u001b[A\u001b[A\u001b[A\u001b[A\u001b[A\u001b[A\n",
      "\n",
      "\n",
      "\n",
      "\n",
      "\n",
      "\n",
      "\n",
      "\n",
      "\n",
      "\n",
      " 58%|█████▊    | 7/12 [02:45<01:45, 21.03s/it]\u001b[A\u001b[A\u001b[A\u001b[A\u001b[A\u001b[A\u001b[A\u001b[A\u001b[A\u001b[A\u001b[A\n",
      "\n",
      "\n",
      "\n",
      "\n",
      "\n",
      "\n",
      "\n",
      "\n",
      "\n",
      "\n",
      " 67%|██████▋   | 8/12 [03:27<01:49, 27.45s/it]\u001b[A\u001b[A\u001b[A\u001b[A\u001b[A\u001b[A\u001b[A\u001b[A\u001b[A\u001b[A\u001b[A\n",
      "\n",
      "\n",
      "\n",
      "\n",
      "\n",
      "\n",
      "\n",
      "\n",
      "\n",
      "\n",
      " 75%|███████▌  | 9/12 [03:35<01:04, 21.64s/it]\u001b[A\u001b[A\u001b[A\u001b[A\u001b[A\u001b[A\u001b[A\u001b[A\u001b[A\u001b[A\u001b[A\n",
      "\n",
      "\n",
      "\n",
      "\n",
      "\n",
      "\n",
      "\n",
      "\n",
      "\n",
      "\n",
      " 83%|████████▎ | 10/12 [04:18<00:56, 28.05s/it]\u001b[A\u001b[A\u001b[A\u001b[A\u001b[A\u001b[A\u001b[A\u001b[A\u001b[A\u001b[A\u001b[A\n",
      "\n",
      "\n",
      "\n",
      "\n",
      "\n",
      "\n",
      "\n",
      "\n",
      "\n",
      "\n",
      " 92%|█████████▏| 11/12 [04:27<00:22, 22.24s/it]\u001b[A\u001b[A\u001b[A\u001b[A\u001b[A\u001b[A\u001b[A\u001b[A\u001b[A\u001b[A\u001b[A\n",
      "\n",
      "\n",
      "\n",
      "\n",
      "\n",
      "\n",
      "\n",
      "\n",
      "\n",
      "\n",
      "100%|██████████| 12/12 [05:12<00:00, 29.05s/it]\u001b[A\u001b[A\u001b[A\u001b[A\u001b[A\u001b[A\u001b[A\u001b[A\u001b[A\u001b[A\u001b[A\n",
      "\n",
      "\n",
      "\n",
      "\n",
      "\n",
      "\n",
      "\n",
      "\n",
      "\n",
      "\n",
      "\u001b[A\u001b[A\u001b[A\u001b[A\u001b[A\u001b[A\u001b[A\u001b[A\u001b[A\u001b[A\u001b[A"
     ]
    }
   ],
   "source": [
    "datagen = ImageDataGenerator(\n",
    "        rotation_range=30,\n",
    "        width_shift_range=0.1,\n",
    "        height_shift_range=0.1,\n",
    "        shear_range=0.1,\n",
    "        horizontal_flip=True,\n",
    "        vertical_flip=True,\n",
    "        fill_mode='nearest')\n",
    "\n",
    "\n",
    "target_class_count = 1200\n",
    "\n",
    "dest_train_dir='/opt/Daten/DAGM/train_data/'\n",
    "\n",
    "def tqdm_enumerate(iter):\n",
    "    i = 0\n",
    "    for y in tqdm(iter):\n",
    "        yield i, y\n",
    "        i += 1\n",
    "\n",
    "for j, c in tqdm_enumerate(class_count):\n",
    "    dest_lab_dir=os.path.join(dest_train_dir, class_name[j])\n",
    "    src_lab_dir=os.path.join(raw_data_dir, class_name[j])\n",
    "    \n",
    "    \n",
    "    if not os.path.exists(dest_lab_dir):\n",
    "        os.makedirs(dest_lab_dir)\n",
    "    random_file=random.choices(population=[x for x in os.listdir(src_lab_dir) if '.png' in x], k=target_class_count-c)\n",
    "    for file in random_file:\n",
    "        img=load_img(os.path.join(src_lab_dir,file))\n",
    "        x=img_to_array(img)\n",
    "        x=x.reshape((1,) + x.shape)\n",
    "        for batch in datagen.flow(x, batch_size=1, save_to_dir=dest_lab_dir, save_format='jpg', save_prefix=file):\n",
    "            if target_class_count - len(os.listdir(dest_lab_dir)) > 0:\n",
    "                break\n",
    "                    \n",
    "            "
   ]
  },
  {
   "cell_type": "code",
   "execution_count": 120,
   "metadata": {},
   "outputs": [],
   "source": [
    "!scp -r /opt/Daten/DAGM/Raw_data/. /opt/Daten/DAGM/train_data/."
   ]
  },
  {
   "cell_type": "code",
   "execution_count": 121,
   "metadata": {},
   "outputs": [],
   "source": [
    "dest_test_dir='/opt/Daten/DAGM/test_data/'\n",
    "\n",
    "for d in os.listdir(dest_train_dir):\n",
    "    files=os.listdir(os.path.join(dest_train_dir, d))\n",
    "    dest_lab_dir=os.path.join(dest_test_dir, d)\n",
    "    if not os.path.exists(dest_lab_dir):\n",
    "        os.makedirs(dest_lab_dir)\n",
    "    random_file=random.sample(population=[x for x in files], k=300)\n",
    "    for rf in random_file:\n",
    "        shutil.move(dest_train_dir+d+'/'+rf, dest_test_dir+d+'/'+rf)"
   ]
  },
  {
   "cell_type": "markdown",
   "metadata": {},
   "source": [
    "# Now let's check again"
   ]
  },
  {
   "cell_type": "code",
   "execution_count": 17,
   "metadata": {},
   "outputs": [
    {
     "data": {
      "image/png": "[encoded data removed]",
      "text/plain": [
       "<Figure size 864x432 with 1 Axes>"
      ]
     },
     "metadata": {},
     "output_type": "display_data"
    }
   ],
   "source": [
    "# the training data\n",
    "check_barplot(data_dir='/opt/Daten/DAGM/train_data/')"
   ]
  },
  {
   "cell_type": "code",
   "execution_count": 18,
   "metadata": {},
   "outputs": [
    {
     "data": {
      "image/png": "[encoded data removed]",
      "text/plain": [
       "<Figure size 864x432 with 1 Axes>"
      ]
     },
     "metadata": {},
     "output_type": "display_data"
    }
   ],
   "source": [
    "# the test data\n",
    "check_barplot(data_dir='/opt/Daten/DAGM/test_data/')"
   ]
  },
  {
   "cell_type": "markdown",
   "metadata": {},
   "source": [
    "After augmenting the data, we got balanced training- and test datasets. Next step, we will use the **retrain.py** script, which is officially provided by TensorFlow and could be downloaded with\n",
    "```\n",
    "wget https://github.com/tensorflow/hub/raw/master/examples/image_retraining/retrain.py\n",
    "```\n",
    "\n",
    "To start it, simply type\n",
    "```\n",
    "python retrain.py --image_dir /opt/Daten/DAGM/train_data\n",
    "```\n",
    "As a default setting, it will download the **Inception V3** model from [TensorFlow Hub](https://tfhub.dev/) and train with our pre-processed training data automatically.  "
   ]
  },
  {
   "cell_type": "code",
   "execution_count": null,
   "metadata": {},
   "outputs": [],
   "source": []
  }
 ],
 "metadata": {
  "kernelspec": {
   "display_name": "Python [conda root]",
   "language": "python",
   "name": "conda-root-py"
  },
  "language_info": {
   "codemirror_mode": {
    "name": "ipython",
    "version": 3
   },
   "file_extension": ".py",
   "mimetype": "text/x-python",
   "name": "python",
   "nbconvert_exporter": "python",
   "pygments_lexer": "ipython3",
   "version": "3.6.5"
  }
 },
 "nbformat": 4,
 "nbformat_minor": 2
}
